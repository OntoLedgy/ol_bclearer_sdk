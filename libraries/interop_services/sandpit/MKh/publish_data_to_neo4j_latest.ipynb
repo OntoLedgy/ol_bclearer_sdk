{
 "cells": [
  {
   "cell_type": "markdown",
   "metadata": {
    "application/vnd.databricks.v1+cell": {
     "cellMetadata": {
      "byteLimit": 2048000,
      "rowLimit": 10000
     },
     "inputWidgets": {},
     "nuid": "7e0c99d2-fe8d-44ae-bdec-c9d859e304d5",
     "showTitle": false,
     "title": ""
    }
   },
   "source": [
    "# Data\n",
    "First, let's check out the directories that hold the data.\n",
    "\n",
    "In the case of the Plant Breakdown Structure use case, we are working with data from 2 sites: Bukom and Moerdijk.\n",
    "\n",
    "The data for the second use case is located in the `sigraph` directory."
   ]
  },
  {
   "cell_type": "code",
   "execution_count": 0,
   "metadata": {
    "application/vnd.databricks.v1+cell": {
     "cellMetadata": {
      "byteLimit": 2048000,
      "rowLimit": 10000
     },
     "inputWidgets": {},
     "nuid": "1a8b04c9-b524-4164-acfd-cb829aefcb71",
     "showTitle": false,
     "title": ""
    }
   },
   "outputs": [
    {
     "name": "stdout",
     "output_type": "stream",
     "text": [
      "total 16\r\ndrwxrwxrwx 2 nobody nogroup 4096 Feb  8 12:26 \u001b[0m\u001b[34;42mmoerdijk\u001b[0m/\r\ndrwxrwxrwx 2 nobody nogroup 4096 Feb  8 12:26 \u001b[34;42mrecordings\u001b[0m/\r\ndrwxrwxrwx 2 nobody nogroup 4096 Feb  8 12:26 \u001b[34;42msigraph\u001b[0m/\r\ndrwxrwxrwx 2 nobody nogroup 4096 Aug 18 14:29 \u001b[34;42mbukom\u001b[0m/\r\n"
     ]
    }
   ],
   "source": [
    "%ls -lt /dbfs/mnt/bclearer/temp/neo4j"
   ]
  },
  {
   "cell_type": "markdown",
   "metadata": {
    "application/vnd.databricks.v1+cell": {
     "cellMetadata": {
      "byteLimit": 2048000,
      "rowLimit": 10000
     },
     "inputWidgets": {},
     "nuid": "b1752feb-9031-4406-bd15-4c3c62bf3216",
     "showTitle": false,
     "title": ""
    }
   },
   "source": [
    "For Bukom we have gone through 4 iterations, adding more complexity to the models with each iteration."
   ]
  },
  {
   "cell_type": "code",
   "execution_count": 0,
   "metadata": {
    "application/vnd.databricks.v1+cell": {
     "cellMetadata": {
      "byteLimit": 2048000,
      "rowLimit": 10000
     },
     "inputWidgets": {},
     "nuid": "8a4a8b61-b21f-4726-8c02-04d1dab0dd37",
     "showTitle": false,
     "title": ""
    }
   },
   "outputs": [
    {
     "name": "stdout",
     "output_type": "stream",
     "text": [
      "total 16\r\ndrwxrwxrwx 2 nobody nogroup 4096 Feb  8 12:26 \u001b[0m\u001b[34;42mmodel_iteration_3\u001b[0m/\r\ndrwxrwxrwx 2 nobody nogroup 4096 Feb  8 12:26 \u001b[34;42mmodel_iteration_4\u001b[0m/\r\ndrwxrwxrwx 2 nobody nogroup 4096 Sep 18 12:21 \u001b[34;42mmodel_iteration_2\u001b[0m/\r\ndrwxrwxrwx 2 nobody nogroup 4096 Sep 18 12:21 \u001b[34;42mmodel_iteration_1\u001b[0m/\r\n"
     ]
    }
   ],
   "source": [
    "%ls -lt /dbfs/mnt/bclearer/temp/neo4j/bukom/"
   ]
  },
  {
   "cell_type": "markdown",
   "metadata": {
    "application/vnd.databricks.v1+cell": {
     "cellMetadata": {
      "byteLimit": 2048000,
      "rowLimit": 10000
     },
     "inputWidgets": {},
     "nuid": "56f1d7c9-25e6-42ec-af41-c6c4c4bce05c",
     "showTitle": false,
     "title": ""
    }
   },
   "source": [
    "Let's have a look at the structure of one of these directories:"
   ]
  },
  {
   "cell_type": "code",
   "execution_count": 0,
   "metadata": {
    "application/vnd.databricks.v1+cell": {
     "cellMetadata": {
      "byteLimit": 2048000,
      "rowLimit": 10000
     },
     "inputWidgets": {},
     "nuid": "63938c80-2ee3-497c-bf26-9065a4e34517",
     "showTitle": false,
     "title": ""
    }
   },
   "outputs": [
    {
     "name": "stdout",
     "output_type": "stream",
     "text": [
      "total 8\r\ndrwxrwxrwx 2 nobody nogroup 4096 Feb  8 12:26 \u001b[0m\u001b[34;42mbclearer_edges\u001b[0m/\r\ndrwxrwxrwx 2 nobody nogroup 4096 Feb  8 12:26 \u001b[34;42mbclearer_nodes\u001b[0m/\r\n"
     ]
    }
   ],
   "source": [
    "%ls -lt /dbfs/mnt/bclearer/temp/neo4j/bukom/model_iteration_4/"
   ]
  },
  {
   "cell_type": "markdown",
   "metadata": {
    "application/vnd.databricks.v1+cell": {
     "cellMetadata": {
      "byteLimit": 2048000,
      "rowLimit": 10000
     },
     "inputWidgets": {},
     "nuid": "8860826c-f99a-43b1-8e18-b01c671e83d1",
     "showTitle": false,
     "title": ""
    }
   },
   "source": [
    "\n",
    "#Global variables"
   ]
  },
  {
   "cell_type": "code",
   "execution_count": 0,
   "metadata": {
    "application/vnd.databricks.v1+cell": {
     "cellMetadata": {
      "byteLimit": 2048000,
      "rowLimit": 10000
     },
     "inputWidgets": {},
     "nuid": "32ffb994-29ef-4fb3-8901-9edc2ebe5d34",
     "showTitle": false,
     "title": ""
    }
   },
   "outputs": [
    {
     "name": "stdout",
     "output_type": "stream",
     "text": [
      "http://10.1.0.5:7474/\n"
     ]
    }
   ],
   "source": [
    "\"\"\"\n",
    "CREATE FULLTEXT INDEX search_term IF NOT EXISTS FOR (n:Entity|Site|Plant|ProcessUnit|Tag|Equipment) ON EACH [n.name, n.description]\n",
    "\"\"\"\n",
    "\n",
    "IP_ADDRESS_RAFAEL_PRIVATE = \"10.1.0.5\"\n",
    "IP_ADDRESS_RAFAEL = \"20.76.138.131\"\n",
    "# IP_ADDRESS_MANGI = \"20.61.80.250\"\n",
    "\n",
    "IP_ADDRESS = IP_ADDRESS_RAFAEL_PRIVATE\n",
    "\n",
    "ITERATION = 3\n",
    "\n",
    "if ITERATION in [1, 2, 3, 4]:\n",
    "    use_issue_type = False  # True for mansoors_folder_neo4j_output\n",
    "    SUB_DIR = (\n",
    "        \"bclearer\" if ITERATION == 4 else \"bclearer_neo4j\"\n",
    "    )  # Depends on folder structure. Options are: bclearer_neo4j (iters 1,2,3), bclearer (iter 4) or all (for mansoors_folder_neo4j_output)\n",
    "    DATA_CORE_PATH = f\"/mnt/bclearer/temp/neo4j/bukom/model_iteration_{ITERATION}/\"\n",
    "    DATABASE = f\"pbs-iter{ITERATION}\"\n",
    "else:\n",
    "    use_issue_type = True  # True for mansoors_folder_neo4j_output\n",
    "    SUB_DIR = \"all\"  # Depends on folder structure. Options are: bclearer_neo4j (iters 1,2,3), bclearer (iter 4) or all (for mansoors_folder_neo4j_output)\n",
    "    DATA_CORE_PATH = \"/mnt/bclearer/temp/mansoors_folder_neo4j_output/\"  # Iteration\n",
    "    DATABASE = \"pbs-neo4j-output\"\n",
    "\n",
    "DATABASE_USERNAME = \"neo4j\"\n",
    "DATABASE_PASSWORD = \"bclearer\"\n",
    "DATABASE_CONNECTION_URL = f\"bolt://{IP_ADDRESS}:7687\"\n",
    "NEO4J_WEBAPP = f\"http://{IP_ADDRESS}:7474/\"\n",
    "print(NEO4J_WEBAPP)"
   ]
  },
  {
   "cell_type": "code",
   "execution_count": 0,
   "metadata": {
    "application/vnd.databricks.v1+cell": {
     "cellMetadata": {
      "byteLimit": 2048000,
      "rowLimit": 10000
     },
     "inputWidgets": {},
     "nuid": "15544e7d-debf-4745-9b55-47fd2f70a9d2",
     "showTitle": false,
     "title": ""
    }
   },
   "outputs": [
    {
     "name": "stdout",
     "output_type": "stream",
     "text": [
      "\u001b[0m\u001b[34;42m_delta_log\u001b[0m/\r\n\u001b[01;32mpart-00000-560da62d-fb98-4741-ab2d-47cba2d40d2e-c000.snappy.parquet\u001b[0m*\r\n\u001b[01;32mpart-00001-0ebdd305-9007-4cf3-854d-eefd40f9c13f-c000.snappy.parquet\u001b[0m*\r\n\u001b[01;32mpart-00002-fda7b3a0-879e-4006-b859-6d13243d4bb3-c000.snappy.parquet\u001b[0m*\r\n\u001b[01;32mpart-00003-445bc8c1-2e39-41e2-9c75-0a78f55d4e5a-c000.snappy.parquet\u001b[0m*\r\n\u001b[01;32mpart-00004-ac02cb28-42a6-44b9-929a-a971eac4f70e-c000.snappy.parquet\u001b[0m*\r\n\u001b[01;32mpart-00005-78d8c9f2-f2de-4e03-b216-fa12040b2a63-c000.snappy.parquet\u001b[0m*\r\n\u001b[01;32mpart-00006-0bfbaf40-7ce5-4172-9a35-f14198bde1ab-c000.snappy.parquet\u001b[0m*\r\n\u001b[01;32mpart-00007-1fac24fe-58b8-44a4-ae46-9993e05abc38-c000.snappy.parquet\u001b[0m*\r\n\u001b[01;32mpart-00008-7054d47e-c7a8-4590-9b32-6ab01320aa82-c000.snappy.parquet\u001b[0m*\r\n"
     ]
    }
   ],
   "source": [
    "%ls /dbfs/mnt/bclearer/temp/neo4j/bukom/model_iteration_1/bclearer_neo4j_nodes"
   ]
  },
  {
   "cell_type": "code",
   "execution_count": 0,
   "metadata": {
    "application/vnd.databricks.v1+cell": {
     "cellMetadata": {
      "byteLimit": 2048000,
      "rowLimit": 10000
     },
     "inputWidgets": {},
     "nuid": "d67c1f03-e8b8-4f8b-9d50-13dc406e1466",
     "showTitle": false,
     "title": ""
    }
   },
   "outputs": [
    {
     "name": "stdout",
     "output_type": "stream",
     "text": [
      "\u001b[0m\u001b[34;42m_delta_log\u001b[0m/\r\n\u001b[01;32mpart-00000-06749869-923b-4057-b44a-4809f0e22e58-c000.snappy.parquet\u001b[0m*\r\n\u001b[01;32mpart-00001-b7857ff3-81b3-46ce-88bd-a4aa4f31296d-c000.snappy.parquet\u001b[0m*\r\n\u001b[01;32mpart-00002-0c1eb72f-b4ea-4d96-9714-47fbdabd3a48-c000.snappy.parquet\u001b[0m*\r\n\u001b[01;32mpart-00003-0e67a4b6-5381-424b-ab47-ad1861c73280-c000.snappy.parquet\u001b[0m*\r\n\u001b[01;32mpart-00004-eaaa07c9-af03-40e2-a770-35a9346ec98c-c000.snappy.parquet\u001b[0m*\r\n\u001b[01;32mpart-00005-5049ba97-67db-41c2-a56b-e92ffa9b7841-c000.snappy.parquet\u001b[0m*\r\n\u001b[01;32mpart-00006-452f2da5-70de-4ca2-b009-8dbc5c050683-c000.snappy.parquet\u001b[0m*\r\n\u001b[01;32mpart-00007-2ef8c154-2c92-4ac4-84b2-dd8385f3f034-c000.snappy.parquet\u001b[0m*\r\n\u001b[01;32mpart-00008-982886ba-041c-4ea3-92fb-abbba124094e-c000.snappy.parquet\u001b[0m*\r\n\u001b[01;32mpart-00009-03a054b9-6432-401e-aaa5-dcc06335bdc8-c000.snappy.parquet\u001b[0m*\r\n\u001b[01;32mpart-00010-4f0e1de6-b728-4be3-8dde-7c7a305988e4-c000.snappy.parquet\u001b[0m*\r\n"
     ]
    }
   ],
   "source": [
    "%ls /dbfs/mnt/bclearer/temp/mansoors_folder_neo4j_output/all_nodes/"
   ]
  },
  {
   "cell_type": "markdown",
   "metadata": {
    "application/vnd.databricks.v1+cell": {
     "cellMetadata": {
      "byteLimit": 2048000,
      "rowLimit": 10000
     },
     "inputWidgets": {},
     "nuid": "838b4ace-3e50-4c25-ac13-41b557e630ab",
     "showTitle": false,
     "title": ""
    }
   },
   "source": [
    "\n",
    "#Imports"
   ]
  },
  {
   "cell_type": "code",
   "execution_count": 0,
   "metadata": {
    "application/vnd.databricks.v1+cell": {
     "cellMetadata": {
      "byteLimit": 2048000,
      "rowLimit": 10000
     },
     "inputWidgets": {},
     "nuid": "264a17b0-195f-4e36-b558-1c6464eace26",
     "showTitle": false,
     "title": ""
    }
   },
   "outputs": [],
   "source": [
    "from neo4j import GraphDatabase\n",
    "from pyspark.sql import DataFrame\n",
    "from pyspark.sql.functions import *\n",
    "from pyspark.sql.types import *\n",
    "from pyspark.sql.window import Window"
   ]
  },
  {
   "cell_type": "markdown",
   "metadata": {
    "application/vnd.databricks.v1+cell": {
     "cellMetadata": {
      "byteLimit": 2048000,
      "rowLimit": 10000
     },
     "inputWidgets": {},
     "nuid": "f95bbc2c-9c81-45b3-860e-8698bc999675",
     "showTitle": false,
     "title": ""
    }
   },
   "source": [
    "\n",
    "#DB management functions "
   ]
  },
  {
   "cell_type": "code",
   "execution_count": 0,
   "metadata": {
    "application/vnd.databricks.v1+cell": {
     "cellMetadata": {
      "byteLimit": 2048000,
      "rowLimit": 10000
     },
     "inputWidgets": {},
     "nuid": "e1e57c5e-0cba-4fb9-90d4-078516e07422",
     "showTitle": false,
     "title": ""
    }
   },
   "outputs": [],
   "source": [
    "AUTH = (DATABASE_USERNAME, DATABASE_PASSWORD)\n",
    "\n",
    "\n",
    "def delete_database(db_name: str):\n",
    "    with GraphDatabase.driver(DATABASE_CONNECTION_URL, auth=AUTH) as driver:\n",
    "        driver.execute_query(\n",
    "            \"DROP DATABASE $db IF EXISTS\",\n",
    "            db=db_name,\n",
    "        )\n",
    "\n",
    "\n",
    "def create_database(db_name: str):\n",
    "    with GraphDatabase.driver(DATABASE_CONNECTION_URL, auth=AUTH) as driver:\n",
    "        driver.execute_query(\n",
    "            \"CREATE DATABASE $db IF NOT EXISTS\",\n",
    "            db=db_name,\n",
    "        )\n",
    "\n",
    "\n",
    "# Deletes all information within a database\n",
    "def delete_nodes_edges(db_name: str):\n",
    "    with GraphDatabase.driver(DATABASE_CONNECTION_URL, auth=AUTH) as driver:\n",
    "        driver.execute_query(\n",
    "            \"\"\"\n",
    "            MATCH (n)\n",
    "            DETACH DELETE n\n",
    "            \"\"\",\n",
    "            database_=db_name,\n",
    "        )"
   ]
  },
  {
   "cell_type": "markdown",
   "metadata": {
    "application/vnd.databricks.v1+cell": {
     "cellMetadata": {
      "byteLimit": 2048000,
      "rowLimit": 10000
     },
     "inputWidgets": {},
     "nuid": "24084619-66e3-4cbd-b407-3381aa14fb69",
     "showTitle": false,
     "title": ""
    }
   },
   "source": [
    "\n",
    "#Load dataset"
   ]
  },
  {
   "cell_type": "code",
   "execution_count": 0,
   "metadata": {
    "application/vnd.databricks.v1+cell": {
     "cellMetadata": {
      "byteLimit": 2048000,
      "rowLimit": 10000
     },
     "inputWidgets": {},
     "nuid": "86c54eac-994c-4bfe-99d1-4bdc36fb4515",
     "showTitle": false,
     "title": ""
    }
   },
   "outputs": [],
   "source": [
    "def load_dataframe(\n",
    "    path: \"str\",\n",
    ") -> \"DataFrame\":\n",
    "    return spark.read.format(\"delta\").load(path)"
   ]
  },
  {
   "cell_type": "code",
   "execution_count": 0,
   "metadata": {
    "application/vnd.databricks.v1+cell": {
     "cellMetadata": {
      "byteLimit": 2048000,
      "rowLimit": 10000
     },
     "inputWidgets": {},
     "nuid": "b71e194b-5aaf-4f8b-9083-fa6c30bc4cb9",
     "showTitle": false,
     "title": ""
    }
   },
   "outputs": [],
   "source": [
    "nodes_dataframe_input = spark.read.format(\"delta\").load(\n",
    "    f\"{DATA_CORE_PATH}/{SUB_DIR}_nodes\",\n",
    ")\n",
    "\n",
    "edges_dataframe = spark.read.format(\"delta\").load(f\"{DATA_CORE_PATH}/{SUB_DIR}_edges\")"
   ]
  },
  {
   "cell_type": "code",
   "execution_count": 0,
   "metadata": {
    "application/vnd.databricks.v1+cell": {
     "cellMetadata": {
      "byteLimit": 2048000,
      "rowLimit": 10000
     },
     "inputWidgets": {},
     "nuid": "2463133d-a5d5-4277-8c75-f22fe1bd57b6",
     "showTitle": false,
     "title": ""
    }
   },
   "outputs": [],
   "source": [
    "if use_issue_type:\n",
    "    window_spec = Window.partitionBy(\"source_primary_key_hash\").orderBy(\n",
    "        desc(\"asset_name\"),\n",
    "    )\n",
    "\n",
    "    nodes_dataframe_issue_types = (\n",
    "        nodes_dataframe_input.where(col(\"type\") == \"issue_type\")\n",
    "        .withColumn(\"row_number\", row_number().over(window_spec))\n",
    "        .where(col(\"row_number\") == 1)\n",
    "        .drop(\"row_number\")\n",
    "        .withColumn(\"asset_name\", lit(\"bclearer\"))\n",
    "    )\n",
    "\n",
    "    nodes_dataframe = nodes_dataframe_input.where(col(\"type\") != \"issue_type\").union(\n",
    "        nodes_dataframe_issue_types,\n",
    "    )\n",
    "\n",
    "else:\n",
    "    nodes_dataframe = nodes_dataframe_input.withColumn(\"asset_name\", lit(\"bclearer\"))"
   ]
  },
  {
   "cell_type": "markdown",
   "metadata": {
    "application/vnd.databricks.v1+cell": {
     "cellMetadata": {
      "byteLimit": 2048000,
      "rowLimit": 10000
     },
     "inputWidgets": {},
     "nuid": "e4675b57-a18a-47f1-84ca-d6ebda271e1a",
     "showTitle": false,
     "title": ""
    }
   },
   "source": [
    "\n",
    "#Reset data in Neo4j"
   ]
  },
  {
   "cell_type": "code",
   "execution_count": 0,
   "metadata": {
    "application/vnd.databricks.v1+cell": {
     "cellMetadata": {
      "byteLimit": 2048000,
      "rowLimit": 10000
     },
     "inputWidgets": {},
     "nuid": "9d7eb985-1d73-460d-b09e-fa387ba484fe",
     "showTitle": false,
     "title": ""
    }
   },
   "outputs": [],
   "source": [
    "delete_database(DATABASE)\n",
    "create_database(DATABASE)"
   ]
  },
  {
   "cell_type": "markdown",
   "metadata": {
    "application/vnd.databricks.v1+cell": {
     "cellMetadata": {
      "byteLimit": 2048000,
      "rowLimit": 10000
     },
     "inputWidgets": {},
     "nuid": "8d169e3d-51b2-4fe6-a3ba-252cfe6e25e4",
     "showTitle": false,
     "title": ""
    }
   },
   "source": [
    "\n",
    "#Save nodes to neo4j"
   ]
  },
  {
   "cell_type": "code",
   "execution_count": 0,
   "metadata": {
    "application/vnd.databricks.v1+cell": {
     "cellMetadata": {
      "byteLimit": 2048000,
      "rowLimit": 10000
     },
     "inputWidgets": {},
     "nuid": "b7035d7b-37ae-4101-a943-57dbee7f5442",
     "showTitle": false,
     "title": ""
    }
   },
   "outputs": [],
   "source": [
    "def create_node_of_type(dataframe, entity_type_input, asset_name):\n",
    "    print(f\"creating entity {entity_type_input}, {asset_name}\")\n",
    "\n",
    "    entity_type_lower = entity_type_input.lower()\n",
    "    entity_type_title = entity_type_input.title()\n",
    "\n",
    "    script = f\"\"\"\n",
    "CREATE CONSTRAINT IF NOT EXISTS FOR ({entity_type_lower}:{entity_type_title}) REQUIRE {entity_type_lower}.source_primary_key_hash IS UNIQUE;\n",
    "CREATE INDEX IF NOT EXISTS FOR (entity:Entity) ON entity.source_primary_key_hash;\"\"\"\n",
    "\n",
    "    dataframe = dataframe.where(col(\"type\") == entity_type_input).where(\n",
    "        col(\"asset_name\") == asset_name,\n",
    "    )\n",
    "    (\n",
    "        dataframe.write.format(\"org.neo4j.spark.DataSource\")\n",
    "        .mode(\"overwrite\")\n",
    "        .option(\"url\", DATABASE_CONNECTION_URL)\n",
    "        .option(\"authentication.basic.username\", DATABASE_USERNAME)\n",
    "        .option(\"authentication.basic.password\", DATABASE_PASSWORD)\n",
    "        .option(\"database\", DATABASE)\n",
    "        .option(\"labels\", f\"Entity:{entity_type_title}:{asset_name}\")\n",
    "        .option(\"node.keys\", \"source_primary_key_hash\")\n",
    "        .option(\"script\", script)\n",
    "        .save()\n",
    "    )\n",
    "    print(f\"created entity {entity_type_input}, {asset_name}\")"
   ]
  },
  {
   "cell_type": "code",
   "execution_count": 0,
   "metadata": {
    "application/vnd.databricks.v1+cell": {
     "cellMetadata": {
      "byteLimit": 2048000,
      "rowLimit": 10000
     },
     "inputWidgets": {},
     "nuid": "0ee662d2-d4e7-4a0e-9491-26bbd7e90391",
     "showTitle": false,
     "title": ""
    }
   },
   "outputs": [
    {
     "name": "stdout",
     "output_type": "stream",
     "text": [
      "creating entity plant, bclearer\ncreated entity plant, bclearer\ncreating entity process_unit, bclearer\ncreated entity process_unit, bclearer\ncreating entity tag, bclearer\ncreated entity tag, bclearer\ncreating entity site, bclearer\ncreated entity site, bclearer\ncreating entity issues, bclearer\ncreated entity issues, bclearer\ncreating entity issue_type, bclearer\ncreated entity issue_type, bclearer\ncreating entity refinery, bclearer\ncreated entity refinery, bclearer\n"
     ]
    }
   ],
   "source": [
    "for row in nodes_dataframe.select(\"type\", \"asset_name\").distinct().collect():\n",
    "    create_node_of_type(nodes_dataframe, row[0], row[1])"
   ]
  },
  {
   "cell_type": "markdown",
   "metadata": {
    "application/vnd.databricks.v1+cell": {
     "cellMetadata": {
      "byteLimit": 2048000,
      "rowLimit": 10000
     },
     "inputWidgets": {},
     "nuid": "873357d6-8227-4af4-934a-147a31c4aa89",
     "showTitle": false,
     "title": ""
    }
   },
   "source": [
    "\n",
    "#Save Edges to neo4j"
   ]
  },
  {
   "cell_type": "code",
   "execution_count": 0,
   "metadata": {
    "application/vnd.databricks.v1+cell": {
     "cellMetadata": {
      "byteLimit": 2048000,
      "rowLimit": 10000
     },
     "inputWidgets": {},
     "nuid": "577069e2-2cda-4bb3-9a2c-cb7b119a8cbd",
     "showTitle": false,
     "title": ""
    }
   },
   "outputs": [],
   "source": [
    "def create_edges_with_relation_type(dataframe, relation_type):\n",
    "    print(f\"creating relation_type {relation_type}\")\n",
    "\n",
    "    query = \"MATCH (source:Entity {source_primary_key_hash: event.source}), (destination:Entity {source_primary_key_hash: event.destination})\"\n",
    "    query = query + f\" MERGE (source)-[:{relation_type}]->(destination)\"\n",
    "\n",
    "    dataframe = dataframe.where(col(\"relation_type\") == relation_type)\n",
    "    (\n",
    "        dataframe.repartition(1)\n",
    "        .write.format(\"org.neo4j.spark.DataSource\")\n",
    "        .mode(\"append\")\n",
    "        .option(\"url\", DATABASE_CONNECTION_URL)\n",
    "        .option(\"authentication.basic.username\", DATABASE_USERNAME)\n",
    "        .option(\"authentication.basic.password\", DATABASE_PASSWORD)\n",
    "        .option(\"database\", DATABASE)\n",
    "        .option(\"query\", query)\n",
    "        .save()\n",
    "    )\n",
    "\n",
    "    print(f\"created relation_type {relation_type}\")"
   ]
  },
  {
   "cell_type": "code",
   "execution_count": 0,
   "metadata": {
    "application/vnd.databricks.v1+cell": {
     "cellMetadata": {
      "byteLimit": 2048000,
      "rowLimit": 10000
     },
     "inputWidgets": {},
     "nuid": "2614673d-7c48-41a4-9f03-7665725abdb6",
     "showTitle": false,
     "title": ""
    }
   },
   "outputs": [
    {
     "name": "stdout",
     "output_type": "stream",
     "text": [
      "creating relation_type SAME_AS\n"
     ]
    }
   ],
   "source": [
    "for row in edges_dataframe.select(\"relation_type\").distinct().collect():\n",
    "    create_edges_with_relation_type(edges_dataframe, row[0])"
   ]
  }
 ],
 "metadata": {
  "application/vnd.databricks.v1+notebook": {
   "dashboards": [],
   "language": "python",
   "notebookMetadata": {
    "mostRecentlyExecutedCommandWithImplicitDF": {
     "commandId": 756861054186835,
     "dataframes": [
      "_sqldf"
     ]
    },
    "pythonIndentUnit": 4
   },
   "notebookName": "publish_data_to_neo4j_latest",
   "widgets": {}
  }
 },
 "nbformat": 4,
 "nbformat_minor": 0
}
